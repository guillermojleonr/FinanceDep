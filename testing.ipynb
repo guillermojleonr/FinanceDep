{
 "cells": [
  {
   "cell_type": "code",
   "execution_count": 1,
   "metadata": {},
   "outputs": [],
   "source": [
    "import sqlite3\n",
    "\n",
    "miConexion = sqlite3.connect(\"finance\") #Si no existe la base de datos la crea\n",
    "miCursor = miConexion.cursor() "
   ]
  },
  {
   "cell_type": "code",
   "execution_count": 2,
   "metadata": {},
   "outputs": [
    {
     "data": {
      "text/plain": [
       "<sqlite3.Cursor at 0x1b816a4d9d0>"
      ]
     },
     "execution_count": 2,
     "metadata": {},
     "output_type": "execute_result"
    }
   ],
   "source": [
    "miCursor.execute(\"\"\" \n",
    "     CREATE TABLE IF NOT EXISTS items(\n",
    "        id INTEGER PRIMARY KEY AUTOINCREMENT,\n",
    "        description VARCHAR(50),\n",
    "        measure_unit VARCHAR(10),\n",
    "        value_clp DOUBLE(20)\n",
    "        ) \n",
    "    \"\"\")"
   ]
  },
  {
   "cell_type": "code",
   "execution_count": 3,
   "metadata": {},
   "outputs": [
    {
     "data": {
      "text/plain": [
       "<sqlite3.Cursor at 0x1b816a4d9d0>"
      ]
     },
     "execution_count": 3,
     "metadata": {},
     "output_type": "execute_result"
    }
   ],
   "source": [
    "miCursor.execute(\"\"\" \n",
    "     CREATE TABLE IF NOT EXISTS products(\n",
    "        id INTEGER PRIMARY KEY AUTOINCREMENT,\n",
    "        description VARCHAR(50)\n",
    "        ) \n",
    "    \"\"\")"
   ]
  },
  {
   "cell_type": "code",
   "execution_count": 5,
   "metadata": {},
   "outputs": [
    {
     "data": {
      "text/plain": [
       "<sqlite3.Cursor at 0x1b816a4d9d0>"
      ]
     },
     "execution_count": 5,
     "metadata": {},
     "output_type": "execute_result"
    }
   ],
   "source": [
    "miCursor.execute(\"\"\" \n",
    "     CREATE TABLE IF NOT EXISTS product_details(\n",
    "        id INTEGER PRIMARY KEY AUTOINCREMENT,\n",
    "        id_product INTEGER,\n",
    "        id_item INTEGER,\n",
    "        quantity INTEGER,\n",
    "        value DOUBLE,\n",
    "        FOREIGN KEY (id_product) REFERENCES products(id),\n",
    "        FOREIGN KEY (id_item) REFERENCES items(id)\n",
    "        ) \n",
    "    \"\"\")"
   ]
  },
  {
   "cell_type": "code",
   "execution_count": 9,
   "metadata": {},
   "outputs": [
    {
     "data": {
      "text/plain": [
       "<sqlite3.Cursor at 0x1b816a4d9d0>"
      ]
     },
     "execution_count": 9,
     "metadata": {},
     "output_type": "execute_result"
    }
   ],
   "source": [
    "miCursor.execute(\"\"\"\n",
    "     INSERT INTO items(description, measure_unit, value_clp) VALUES(\n",
    "        'Disco de circonio',\n",
    "        'gramos',\n",
    "        100)\n",
    "     \"\"\")\n",
    "miConexion.commit()"
   ]
  },
  {
   "cell_type": "code",
   "execution_count": 16,
   "metadata": {},
   "outputs": [],
   "source": [
    "variosProductos = [ #Create a list of tuples\n",
    "    ('Disco de cromo cobalto', 'gramos', 200),\n",
    "    ('Hora-Hombre', 'minuto', 185.18),\n",
    "    ('Hora-Maquina', 'minuto', 500),\n",
    "    ('Aditivos de fibra', 'gramos', 30)\n",
    "]\n",
    "miCursor.executemany(\"INSERT INTO items VALUES(NULL,?,?,?)\",variosProductos)\n",
    "miConexion.commit()"
   ]
  },
  {
   "cell_type": "code",
   "execution_count": 22,
   "metadata": {},
   "outputs": [],
   "source": [
    "variosProductos = [\n",
    "    ('Diente de circonio',),\n",
    "    ('Diente de cromo',)\n",
    "]\n",
    "miCursor.executemany(\"INSERT INTO products VALUES(NULL,?)\",variosProductos)\n",
    "miConexion.commit()"
   ]
  }
 ],
 "metadata": {
  "kernelspec": {
   "display_name": "Python 3.9.12 ('base')",
   "language": "python",
   "name": "python3"
  },
  "language_info": {
   "codemirror_mode": {
    "name": "ipython",
    "version": 3
   },
   "file_extension": ".py",
   "mimetype": "text/x-python",
   "name": "python",
   "nbconvert_exporter": "python",
   "pygments_lexer": "ipython3",
   "version": "3.9.12"
  },
  "orig_nbformat": 4,
  "vscode": {
   "interpreter": {
    "hash": "b9181b24ef3e53db4bfc4e9af9efbcfb84a57342a9477c66f5d752a451ac5389"
   }
  }
 },
 "nbformat": 4,
 "nbformat_minor": 2
}
